{
 "cells": [
  {
   "cell_type": "markdown",
   "metadata": {
    "id": "ySq3ZUrTp5zN"
   },
   "source": [
    "Creating a local Spark Session."
   ]
  },
  {
   "cell_type": "code",
   "execution_count": null,
   "metadata": {
    "id": "_oHxFQwd-Exl"
   },
   "outputs": [],
   "source": [
    "import findspark\n",
    "findspark.init()\n",
    "from pyspark.sql import SparkSession, SQLContext\n",
    "from pyspark.sql import functions as F\n",
    "spark = SparkSession.builder.master(\"local[*]\").getOrCreate()\n",
    "sc = spark.sparkContext"
   ]
  },
  {
   "cell_type": "markdown",
   "metadata": {
    "id": "xuXJIE5gp9Ow"
   },
   "source": [
    "Mounting on Google Drive"
   ]
  },
  {
   "cell_type": "code",
   "execution_count": null,
   "metadata": {
    "colab": {
     "base_uri": "https://localhost:8080/"
    },
    "id": "T-lJO2lJ6d9V",
    "outputId": "9dc6c64a-58d2-422c-f5af-74c493d986c3"
   },
   "outputs": [
    {
     "name": "stdout",
     "output_type": "stream",
     "text": [
      "Mounted at /content/drive\n"
     ]
    }
   ],
   "source": [
    "from google.colab import drive\n",
    "drive.mount('/content/drive')"
   ]
  },
  {
   "cell_type": "markdown",
   "metadata": {
    "id": "5Eb13Ln028dv"
   },
   "source": [
    "### **Importing Libraries and Data**\n",
    "\n",
    "---\n"
   ]
  },
  {
   "cell_type": "code",
   "execution_count": null,
   "metadata": {
    "id": "EFEg_FLEHD-o"
   },
   "outputs": [],
   "source": [
    "#from pyspark.sql.functions import *\n",
    "from pyspark.sql.functions import isnan, when, count, col\n",
    "from pyspark.sql.types import IntegerType, DoubleType\n",
    "from pyspark.ml.feature import StringIndexer\n",
    "from pyspark.ml.evaluation import RegressionEvaluator\n",
    "from pyspark.ml.recommendation import ALS\n",
    "from pyspark.ml.tuning import ParamGridBuilder\n",
    "from pyspark.ml.tuning import CrossValidator\n",
    "from pyspark import SparkContext\n",
    "from pyspark import SparkConf\n",
    "from pyspark.sql import SparkSession, SQLContext\n",
    "from pyspark.ml.evaluation import ClusteringEvaluator\n",
    "from pyspark.ml import Pipeline\n",
    "from pyspark.ml.feature import HashingTF, IDF, Tokenizer, CountVectorizer, StopWordsRemover\n",
    "from pandas.core.reshape.concat import concat\n",
    "from pyspark.ml.feature import PCA\n",
    "import time\n",
    "import pickle\n",
    "import plotly.express as px\n",
    "import pandas as pd"
   ]
  },
  {
   "cell_type": "code",
   "execution_count": null,
   "metadata": {
    "id": "co6xeeOk815a"
   },
   "outputs": [],
   "source": [
    "data = spark.read.json(\"/Amazon/350k/*.json\")"
   ]
  },
  {
   "cell_type": "markdown",
   "metadata": {
    "id": "Oek4tv3kpUo1"
   },
   "source": [
    "### **Recommendation System Using Alternating Least Squares**\n",
    "\n",
    "---\n"
   ]
  },
  {
   "cell_type": "code",
   "execution_count": null,
   "metadata": {
    "colab": {
     "base_uri": "https://localhost:8080/"
    },
    "id": "yIfaPJGFzhuZ",
    "outputId": "964a1dcf-ad92-47f2-a1af-47d0d5702235"
   },
   "outputs": [
    {
     "name": "stdout",
     "output_type": "stream",
     "text": [
      "+----------+----------+------+\n",
      "|product_id|reviewerID|rating|\n",
      "+----------+----------+------+\n",
      "|         0|         0|     0|\n",
      "+----------+----------+------+\n",
      "\n"
     ]
    }
   ],
   "source": [
    "df = data.select('asin', 'reviewerID', 'overall').withColumnRenamed(\"asin\",\"product_id\").withColumnRenamed(\"overall\",\"rating\")\n",
    "df.select([count(when(isnan(c) | col(c).isNull(), c)).alias(c) for c in df.columns]).show()  # check for nulls"
   ]
  },
  {
   "cell_type": "code",
   "execution_count": null,
   "metadata": {
    "colab": {
     "base_uri": "https://localhost:8080/"
    },
    "id": "hW_hg9cBn57G",
    "outputId": "d06138b9-9053-4406-805b-b18fea921c26"
   },
   "outputs": [
    {
     "name": "stdout",
     "output_type": "stream",
     "text": [
      "+----------+---------+------+\n",
      "|reviewerID|productID|rating|\n",
      "+----------+---------+------+\n",
      "|     65306|    39691|   5.0|\n",
      "|    217184|    28657|   5.0|\n",
      "|     64176|    28657|   5.0|\n",
      "|     19590|    28658|   5.0|\n",
      "|     11180|    28658|   5.0|\n",
      "+----------+---------+------+\n",
      "only showing top 5 rows\n",
      "\n"
     ]
    }
   ],
   "source": [
    "# Converting data type of rating to double type\n",
    "df = df.withColumn(\"rating\", df[\"rating\"].cast(DoubleType()))\n",
    "\n",
    "# Indexing reviewerID column into integer type\n",
    "user_model = StringIndexer(inputCol=\"reviewerID\", outputCol=\"reviewer_id_index\").fit(df)\n",
    "indexed = user_model.transform(df)\n",
    "indexed_df = indexed.select(indexed[\"reviewer_id_index\"].cast(IntegerType()).alias(\"reviewerID\"), indexed[\"product_id\"], indexed[\"rating\"])\n",
    "\n",
    "# Indexing product_id column into integer type\n",
    "prod_model = StringIndexer(inputCol=\"product_id\", outputCol=\"prod_id_index\").fit(indexed_df)\n",
    "p_indexed = prod_model.transform(indexed_df)\n",
    "als_df = p_indexed.select(p_indexed[\"reviewerID\"], p_indexed[\"prod_id_index\"].cast(IntegerType()).alias(\"productID\"), p_indexed[\"rating\"])\n",
    "als_df.show(5)"
   ]
  },
  {
   "cell_type": "code",
   "execution_count": null,
   "metadata": {
    "colab": {
     "base_uri": "https://localhost:8080/"
    },
    "id": "5JajUBZu3ahm",
    "outputId": "9013bedd-ae85-4d01-84d2-b9243dbe6f41"
   },
   "outputs": [
    {
     "name": "stdout",
     "output_type": "stream",
     "text": [
      "RMSE =  1.869301479197581\n",
      "Rank:  10\n",
      "Max Iter:  10\n",
      "Reg Param:  0.1\n"
     ]
    }
   ],
   "source": [
    "# Randomly split the data into train and test where 80% data is in train and remaining is test\n",
    "train, test = als_df.randomSplit([0.8, 0.2])\n",
    "\n",
    "# Define evaluator as RMSE\n",
    "evaluator = RegressionEvaluator(metricName=\"rmse\", labelCol=\"rating\", predictionCol=\"prediction\")\n",
    "\n",
    "# Build the recommendation model using ALS on the training data\n",
    "# Note we set cold start strategy to 'drop' to ensure we don't get NaN evaluation metrics\n",
    "als = ALS(userCol=\"reviewerID\", itemCol=\"productID\", ratingCol=\"rating\", nonnegative= True, coldStartStrategy='drop')\n",
    "model = als.fit(train)\n",
    "\n",
    "# Print the Root Mean Square Error of ALS Model\n",
    "print(\"RMSE = \", evaluator.evaluate(model.transform(test)))\n",
    "\n",
    "# Print default model parameters\n",
    "print(\"Rank: \", model.rank)\n",
    "print(\"Max Iter: \", model._java_obj.parent().getMaxIter())\n",
    "print(\"Reg Param: \", model._java_obj.parent().getRegParam())"
   ]
  },
  {
   "cell_type": "code",
   "execution_count": null,
   "metadata": {
    "colab": {
     "base_uri": "https://localhost:8080/"
    },
    "id": "01C-_40ZrD5N",
    "outputId": "73c3c95f-faef-4b36-bde2-cc09c0af0529"
   },
   "outputs": [
    {
     "name": "stdout",
     "output_type": "stream",
     "text": [
      "RMSE value after cross validation is:  1.769650981519195\n"
     ]
    }
   ],
   "source": [
    "#Tuning model with Parameter Grid Builder\n",
    "param_grid = ParamGridBuilder() \\\n",
    "     .addGrid(als.rank, [25]) \\\n",
    "     .addGrid(als.regParam, [.1]) \\\n",
    "     .addGrid(als.maxIter, [10]) \\\n",
    "     .build()\n",
    "# #print(param_grid)\n",
    "\n",
    "#Build a 10 fold cross validation\n",
    "crossvalidation = CrossValidator(estimator = als, estimatorParamMaps = param_grid, evaluator = evaluator, numFolds=10)   \n",
    "\n",
    "#Fit ALS model to training data\n",
    "best_model = crossvalidation.fit(train).bestModel\n",
    "\n",
    "#Calculate the RMSE on test data using the best set of parameters obtained after cross validation\n",
    "print(\"RMSE value after cross validation is: \", evaluator.evaluate(best_model.transform(test)))"
   ]
  },
  {
   "cell_type": "code",
   "execution_count": null,
   "metadata": {
    "colab": {
     "base_uri": "https://localhost:8080/",
     "height": 351
    },
    "id": "z8d09j2arEmd",
    "outputId": "e0e3c154-8bbb-4ad6-f98f-1d1e6f26c0b1"
   },
   "outputs": [
    {
     "data": {
      "text/html": [
       "<div>\n",
       "<style scoped>\n",
       "    .dataframe tbody tr th:only-of-type {\n",
       "        vertical-align: middle;\n",
       "    }\n",
       "\n",
       "    .dataframe tbody tr th {\n",
       "        vertical-align: top;\n",
       "    }\n",
       "\n",
       "    .dataframe thead th {\n",
       "        text-align: right;\n",
       "    }\n",
       "</style>\n",
       "<table border=\"1\" class=\"dataframe\">\n",
       "  <thead>\n",
       "    <tr style=\"text-align: right;\">\n",
       "      <th></th>\n",
       "      <th>UserID</th>\n",
       "      <th>ProductID</th>\n",
       "    </tr>\n",
       "  </thead>\n",
       "  <tbody>\n",
       "    <tr>\n",
       "      <th>0</th>\n",
       "      <td>148</td>\n",
       "      <td>56694, 51047, 21976, 59743, 32237, 19953, 2449...</td>\n",
       "    </tr>\n",
       "    <tr>\n",
       "      <th>1</th>\n",
       "      <td>463</td>\n",
       "      <td>24992, 24828, 26397, 28977, 8789, 18503, 45389...</td>\n",
       "    </tr>\n",
       "    <tr>\n",
       "      <th>2</th>\n",
       "      <td>471</td>\n",
       "      <td>29700, 42556, 66960, 49079, 25174, 17528, 1073...</td>\n",
       "    </tr>\n",
       "    <tr>\n",
       "      <th>3</th>\n",
       "      <td>496</td>\n",
       "      <td>14487, 28539, 28663, 25273, 37174, 39229, 4277...</td>\n",
       "    </tr>\n",
       "    <tr>\n",
       "      <th>4</th>\n",
       "      <td>833</td>\n",
       "      <td>59792, 29301, 35926, 22937, 17691, 26233, 6807...</td>\n",
       "    </tr>\n",
       "    <tr>\n",
       "      <th>5</th>\n",
       "      <td>1088</td>\n",
       "      <td>30686, 16985, 5670, 35524, 17529, 39062, 23701...</td>\n",
       "    </tr>\n",
       "    <tr>\n",
       "      <th>6</th>\n",
       "      <td>1238</td>\n",
       "      <td>21669, 22536, 38732, 27213, 52148, 47825, 6605...</td>\n",
       "    </tr>\n",
       "    <tr>\n",
       "      <th>7</th>\n",
       "      <td>1342</td>\n",
       "      <td>71462, 62300, 32783, 37731, 14990, 62552, 3413...</td>\n",
       "    </tr>\n",
       "    <tr>\n",
       "      <th>8</th>\n",
       "      <td>1580</td>\n",
       "      <td>48698, 83204, 55618, 23596, 16985, 5670, 31111...</td>\n",
       "    </tr>\n",
       "    <tr>\n",
       "      <th>9</th>\n",
       "      <td>1591</td>\n",
       "      <td>37911, 82603, 83885, 64470, 63807, 62671, 5790...</td>\n",
       "    </tr>\n",
       "  </tbody>\n",
       "</table>\n",
       "</div>"
      ],
      "text/plain": [
       "   UserID                                          ProductID\n",
       "0     148  56694, 51047, 21976, 59743, 32237, 19953, 2449...\n",
       "1     463  24992, 24828, 26397, 28977, 8789, 18503, 45389...\n",
       "2     471  29700, 42556, 66960, 49079, 25174, 17528, 1073...\n",
       "3     496  14487, 28539, 28663, 25273, 37174, 39229, 4277...\n",
       "4     833  59792, 29301, 35926, 22937, 17691, 26233, 6807...\n",
       "5    1088  30686, 16985, 5670, 35524, 17529, 39062, 23701...\n",
       "6    1238  21669, 22536, 38732, 27213, 52148, 47825, 6605...\n",
       "7    1342  71462, 62300, 32783, 37731, 14990, 62552, 3413...\n",
       "8    1580  48698, 83204, 55618, 23596, 16985, 5670, 31111...\n",
       "9    1591  37911, 82603, 83885, 64470, 63807, 62671, 5790..."
      ]
     },
     "execution_count": 17,
     "metadata": {
      "tags": []
     },
     "output_type": "execute_result"
    }
   ],
   "source": [
    "# Generate n Recommendations for all users\n",
    "prod_rec = best_model.recommendForAllUsers(10)\n",
    "#prod_rec.show()\n",
    "\n",
    "recommend = prod_rec.toPandas()\n",
    "recommend.head(5)\n",
    "\n",
    "# Append user_id and product_id into a list and create a dataframe\n",
    "users = []\n",
    "recommendations = []\n",
    "#For all data iterations\n",
    "for i in range(len(recommend)):\n",
    "\n",
    "  users.append(recommend.iloc[i,0])         #Add user_id to list\n",
    "  user_recs = \"\" \n",
    "\n",
    "  for item in recommend.iloc[i,1]:          #Fetching only the item ID's from the recommendations\n",
    "    user_recs = user_recs + \", \" + str(item.asDict()['productID'])\n",
    "  \n",
    "  recommendations.append(user_recs[2:])     #Append the itemID's to a list\n",
    "\n",
    "#Create a dataframe with the appended data\n",
    "recommendations_df = pd.DataFrame(data = zip(users, recommendations), columns=[\"UserID\", \"ProductID\"])\n",
    "\n",
    "#Displaying users and product recommendations\n",
    "#(top 10 products) for the first 10 users\n",
    "recommendations_df.head(10)"
   ]
  },
  {
   "cell_type": "code",
   "execution_count": null,
   "metadata": {
    "id": "j244DfCjiYqE"
   },
   "outputs": [],
   "source": [
    "#write to a text file\n",
    "recommendations_df.to_csv('ALSRecommendation_Output.csv', index=False)"
   ]
  }
 ],
 "metadata": {
  "colab": {
   "collapsed_sections": [
    "Ah2EnBWd20BZ",
    "5Eb13Ln028dv"
   ],
   "name": "Recommender System Code.ipynb",
   "provenance": []
  },
  "kernelspec": {
   "display_name": "Python 3 (ipykernel)",
   "language": "python",
   "name": "python3"
  },
  "language_info": {
   "codemirror_mode": {
    "name": "ipython",
    "version": 3
   },
   "file_extension": ".py",
   "mimetype": "text/x-python",
   "name": "python",
   "nbconvert_exporter": "python",
   "pygments_lexer": "ipython3",
   "version": "3.10.0"
  }
 },
 "nbformat": 4,
 "nbformat_minor": 1
}
